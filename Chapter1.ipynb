{
  "nbformat": 4,
  "nbformat_minor": 0,
  "metadata": {
    "colab": {
      "name": "Chapter1.ipynb",
      "provenance": [],
      "collapsed_sections": [],
      "include_colab_link": true
    },
    "kernelspec": {
      "name": "python3",
      "display_name": "Python 3"
    }
  },
  "cells": [
    {
      "cell_type": "markdown",
      "metadata": {
        "id": "view-in-github",
        "colab_type": "text"
      },
      "source": [
        "<a href=\"https://colab.research.google.com/github/frisk0zisan/nlp100/blob/main/Chapter1.ipynb\" target=\"_parent\"><img src=\"https://colab.research.google.com/assets/colab-badge.svg\" alt=\"Open In Colab\"/></a>"
      ]
    },
    {
      "cell_type": "markdown",
      "metadata": {
        "id": "_1k1NonF80kG"
      },
      "source": [
        "# 00.文字列の逆順\n",
        "\n",
        "文字列”stressed”の文字を逆に（末尾から先頭に向かって）並べた文字列を得よ．"
      ]
    },
    {
      "cell_type": "code",
      "metadata": {
        "colab": {
          "base_uri": "https://localhost:8080/",
          "height": 35
        },
        "id": "oQv0D1NONAZG",
        "outputId": "8d0989a0-fbaa-49f0-b65d-92c506915f48"
      },
      "source": [
        "text = \"stressed\"\n",
        "text = text[::-1]\n",
        "text"
      ],
      "execution_count": null,
      "outputs": [
        {
          "output_type": "execute_result",
          "data": {
            "application/vnd.google.colaboratory.intrinsic+json": {
              "type": "string"
            },
            "text/plain": [
              "'desserts'"
            ]
          },
          "metadata": {
            "tags": []
          },
          "execution_count": 22
        }
      ]
    },
    {
      "cell_type": "markdown",
      "metadata": {
        "id": "0gO6zH-x8-7V"
      },
      "source": [
        "# 01. 「パタトクカシーー」\n",
        "「パタトクカシーー」という文字列の1,3,5,7文字目を取り出して連結した文字列を得よ．"
      ]
    },
    {
      "cell_type": "code",
      "metadata": {
        "colab": {
          "base_uri": "https://localhost:8080/",
          "height": 35
        },
        "id": "7JO6cKkAPdEd",
        "outputId": "a4e2b12c-7ea9-43b5-ece9-32f36e72db87"
      },
      "source": [
        "text = \"パタトクカシーー\"\n",
        "text = text[::2]\n",
        "text"
      ],
      "execution_count": null,
      "outputs": [
        {
          "output_type": "execute_result",
          "data": {
            "application/vnd.google.colaboratory.intrinsic+json": {
              "type": "string"
            },
            "text/plain": [
              "'パトカー'"
            ]
          },
          "metadata": {
            "tags": []
          },
          "execution_count": 20
        }
      ]
    },
    {
      "cell_type": "markdown",
      "metadata": {
        "id": "ASi_VfwO9B-t"
      },
      "source": [
        "# 02. 「パトカー」＋「タクシー」＝「パタトクカシーー」\n",
        "「パトカー」＋「タクシー」の文字を先頭から交互に連結して文字列「パタトクカシーー」を得よ．"
      ]
    },
    {
      "cell_type": "code",
      "metadata": {
        "colab": {
          "base_uri": "https://localhost:8080/",
          "height": 35
        },
        "id": "WBEBeIWxPuDe",
        "outputId": "d1caff1b-6544-4faa-f1e8-bd0511987a78"
      },
      "source": [
        "text1 = \"パトカー\"\n",
        "text2 = \"タクシー\"\n",
        "text3 = ''.join([t1+t2 for t1, t2 in zip(text1,text2)])\n",
        "text3"
      ],
      "execution_count": null,
      "outputs": [
        {
          "output_type": "execute_result",
          "data": {
            "application/vnd.google.colaboratory.intrinsic+json": {
              "type": "string"
            },
            "text/plain": [
              "'パタトクカシーー'"
            ]
          },
          "metadata": {
            "tags": []
          },
          "execution_count": 25
        }
      ]
    },
    {
      "cell_type": "markdown",
      "metadata": {
        "id": "gya-EXMR9Ep2"
      },
      "source": [
        "# 03. 円周率\n",
        "“Now I need a drink, alcoholic of course, after the heavy lectures involving quantum mechanics.”という文を単語に分解し，各単語の（アルファベットの）文字数を先頭から出現順に並べたリストを作成せよ．"
      ]
    },
    {
      "cell_type": "code",
      "metadata": {
        "id": "vCjGcmyOPJ3L",
        "colab": {
          "base_uri": "https://localhost:8080/"
        },
        "outputId": "c10d9610-c7b6-48e9-dcd1-c96e4419ed14"
      },
      "source": [
        "text = 'Now I need a drink, alcoholic of course, after the heavy lectures involving quantum mechanics.'\n",
        "[len(t) for t in text.split(' ')]"
      ],
      "execution_count": null,
      "outputs": [
        {
          "output_type": "execute_result",
          "data": {
            "text/plain": [
              "[3, 1, 4, 1, 6, 9, 2, 7, 5, 3, 5, 8, 9, 7, 10]"
            ]
          },
          "metadata": {
            "tags": []
          },
          "execution_count": 27
        }
      ]
    },
    {
      "cell_type": "markdown",
      "metadata": {
        "id": "GJHwxVHO9ITu"
      },
      "source": [
        "# 04. 元素記号\n",
        "“Hi He Lied Because Boron Could Not Oxidize Fluorine. New Nations Might Also Sign Peace Security Clause. Arthur King Can.”という文を単語に分解し，1, 5, 6, 7, 8, 9, 15, 16, 19番目の単語は先頭の1文字，それ以外の単語は先頭の2文字を取り出し，取り出した文字列から単語の位置（先頭から何番目の単語か）への連想配列（辞書型もしくはマップ型）を作成せよ．"
      ]
    },
    {
      "cell_type": "code",
      "metadata": {
        "colab": {
          "base_uri": "https://localhost:8080/"
        },
        "id": "VFlV9RMFQtoe",
        "outputId": "230623cc-4aba-4168-f95e-c268e166cfe7"
      },
      "source": [
        "text = \"Hi He Lied Because Boron Could Not Oxidize Fluorine. New Nations Might Also Sign Peace Security Clause. Arthur King Can.\"\n",
        "n = [1, 5, 6, 7, 8, 9, 15, 16, 19]\n",
        "dic = {}\n",
        "for i,t in enumerate(text.split()):\n",
        "  if (i+1) in n:\n",
        "    dic[t[:1]] = i+1\n",
        "  else :\n",
        "    dic[t[:2]] = i+1\n",
        "print(dic)"
      ],
      "execution_count": null,
      "outputs": [
        {
          "output_type": "stream",
          "text": [
            "{'H': 1, 'He': 2, 'Li': 3, 'Be': 4, 'B': 5, 'C': 6, 'N': 7, 'O': 8, 'F': 9, 'Ne': 10, 'Na': 11, 'Mi': 12, 'Al': 13, 'Si': 14, 'P': 15, 'S': 16, 'Cl': 17, 'Ar': 18, 'K': 19, 'Ca': 20}\n"
          ],
          "name": "stdout"
        }
      ]
    },
    {
      "cell_type": "markdown",
      "metadata": {
        "id": "lqVSupiO9NVJ"
      },
      "source": [
        "# 05. n-gram\n",
        "与えられたシーケンス（文字列やリストなど）からn-gramを作る関数を作成せよ．この関数を用い，”I am an NLPer”という文から単語bi-gram，文字bi-gramを得よ．"
      ]
    },
    {
      "cell_type": "code",
      "metadata": {
        "colab": {
          "base_uri": "https://localhost:8080/"
        },
        "id": "8mAX_8JNgf_M",
        "outputId": "60afdcca-4f89-451a-e400-f8db3cbf8a65"
      },
      "source": [
        "len('I am an NLPer')"
      ],
      "execution_count": null,
      "outputs": [
        {
          "output_type": "execute_result",
          "data": {
            "text/plain": [
              "13"
            ]
          },
          "metadata": {
            "tags": []
          },
          "execution_count": 41
        }
      ]
    },
    {
      "cell_type": "code",
      "metadata": {
        "colab": {
          "base_uri": "https://localhost:8080/"
        },
        "id": "vvKEqPPAaRQk",
        "outputId": "9073de48-2b60-43f3-d215-4a7a3feb771d"
      },
      "source": [
        "def ngram(text, n):\n",
        "  l = []\n",
        "  for i in range(len(text) - n +1):\n",
        "    l.append(text[i:i+n])\n",
        "  return l\n",
        "\n",
        "text = 'I am an NLPer'\n",
        "print (ngram(text,2))\n",
        "print (ngram(text.split(),2))"
      ],
      "execution_count": null,
      "outputs": [
        {
          "output_type": "stream",
          "text": [
            "['I ', ' a', 'am', 'm ', ' a', 'an', 'n ', ' N', 'NL', 'LP', 'Pe', 'er']\n",
            "[['I', 'am'], ['am', 'an'], ['an', 'NLPer']]\n"
          ],
          "name": "stdout"
        }
      ]
    },
    {
      "cell_type": "markdown",
      "metadata": {
        "id": "jdOZs6OQ9QOk"
      },
      "source": [
        "# 06. 集合\n",
        "“paraparaparadise”と”paragraph”に含まれる文字bi-gramの集合を，それぞれ, XとYとして求め，XとYの和集合，積集合，差集合を求めよ．さらに，’se’というbi-gramがXおよびYに含まれるかどうかを調べよ．"
      ]
    },
    {
      "cell_type": "code",
      "metadata": {
        "colab": {
          "base_uri": "https://localhost:8080/"
        },
        "id": "bzsva9gLhUhH",
        "outputId": "ab0307cb-1aae-4968-ac6d-e8920f3f7e05"
      },
      "source": [
        "X = set(ngram(\"paraparaparadise\", 2))\n",
        "Y = set(ngram(\"paragraph\",2))\n",
        "\n",
        "print(X | Y)\n",
        "print(X & Y)\n",
        "print(X - Y)\n",
        "print('se' in X)\n",
        "print('se' in Y)"
      ],
      "execution_count": null,
      "outputs": [
        {
          "output_type": "stream",
          "text": [
            "{'pa', 'di', 'ag', 'ra', 'ph', 'is', 'gr', 'ad', 'ap', 'ar', 'se'}\n",
            "{'pa', 'ra', 'ap', 'ar'}\n",
            "{'di', 'ad', 'se', 'is'}\n",
            "True\n",
            "False\n"
          ],
          "name": "stdout"
        }
      ]
    },
    {
      "cell_type": "markdown",
      "metadata": {
        "id": "3WyVah5l9767"
      },
      "source": [
        "# 07. テンプレートによる文生成\n",
        "引数x, y, zを受け取り「x時のyはz」という文字列を返す関数を実装せよ．さらに，x=12, y=”気温”, z=22.4として，実行結果を確認せよ．"
      ]
    },
    {
      "cell_type": "code",
      "metadata": {
        "colab": {
          "base_uri": "https://localhost:8080/",
          "height": 35
        },
        "id": "XBZpMNC7V7ij",
        "outputId": "8ff7de63-2c3c-48a0-9ae8-28b66a389b58"
      },
      "source": [
        "def info(x, y, z):\n",
        "  return \"{}時の{}は{}\".format(x, y, z)\n",
        "\n",
        "info(12,'気温', 22.4)"
      ],
      "execution_count": null,
      "outputs": [
        {
          "output_type": "execute_result",
          "data": {
            "application/vnd.google.colaboratory.intrinsic+json": {
              "type": "string"
            },
            "text/plain": [
              "'12時の気温は22.4'"
            ]
          },
          "metadata": {
            "tags": []
          },
          "execution_count": 40
        }
      ]
    },
    {
      "cell_type": "markdown",
      "metadata": {
        "id": "GUgTwVMQ99jv"
      },
      "source": [
        "# 08. 暗号文\n",
        "与えられた文字列の各文字を，以下の仕様で変換する関数cipherを実装せよ．\n",
        "\n",
        "- 英小文字ならば(219 - 文字コード)の文字に置換\n",
        "- その他の文字はそのまま出力\n",
        "\n",
        "この関数を用い，英語のメッセージを暗号化・復号化せよ．"
      ]
    },
    {
      "cell_type": "code",
      "metadata": {
        "colab": {
          "base_uri": "https://localhost:8080/"
        },
        "id": "rLVab731ihvc",
        "outputId": "01baa376-6c4f-4c43-8696-8e9068484121"
      },
      "source": [
        "def cipher(text):\n",
        "  new_text = []\n",
        "  for t in text:\n",
        "    if str.islower(t):\n",
        "      t = chr(219 - ord(t))\n",
        "    new_text.append(t)\n",
        "  return ''.join(new_text)\n",
        "\n",
        "text = 'test text TEST TEXT'\n",
        "print(text)\n",
        "print(cipher(text))"
      ],
      "execution_count": null,
      "outputs": [
        {
          "output_type": "stream",
          "text": [
            "test text TEST TEXT\n",
            "gvhg gvcg TEST TEXT\n"
          ],
          "name": "stdout"
        }
      ]
    },
    {
      "cell_type": "markdown",
      "metadata": {
        "id": "sVZCuky0-IjH"
      },
      "source": [
        "# 09. Typoglycemia\n",
        "スペースで区切られた単語列に対して，各単語の先頭と末尾の文字は残し，それ以外の文字の順序をランダムに並び替えるプログラムを作成せよ．ただし，長さが４以下の単語は並び替えないこととする．適当な英語の文（例えば”I couldn’t believe that I could actually understand what I was reading : the phenomenal power of the human mind .”）を与え，その実行結果を確認せよ．"
      ]
    },
    {
      "cell_type": "code",
      "metadata": {
        "colab": {
          "base_uri": "https://localhost:8080/"
        },
        "id": "ghGAxqRLkpR3",
        "outputId": "23275998-6509-47f8-f970-10db1fcfba7e"
      },
      "source": [
        "import random\n",
        "text = 'I couldn’t believe that I could actually understand what I was reading : the phenomenal power of the human mind .'\n",
        "ans = []\n",
        "text = text.split(' ')\n",
        "for t in text:\n",
        "  if len(t)>4:\n",
        "    rmd_txt =  list(t[1:-1])\n",
        "    random.shuffle(rmd_txt)\n",
        "    t = (t[0]+''.join(rmd_txt)+t[-1])\n",
        "  ans.append(t)\n",
        "\n",
        "print(' '.join(ans))\n"
      ],
      "execution_count": null,
      "outputs": [
        {
          "output_type": "stream",
          "text": [
            "I cnul’odt blveiee that I culod acullaty udaerstnnd what I was reanidg : the pehmonaenl pwoer of the hamun mind .\n"
          ],
          "name": "stdout"
        }
      ]
    }
  ]
}